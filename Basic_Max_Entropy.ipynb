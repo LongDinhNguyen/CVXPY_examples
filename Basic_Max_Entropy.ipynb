{
 "cells": [
  {
   "cell_type": "code",
   "execution_count": 1,
   "metadata": {
    "collapsed": true
   },
   "outputs": [],
   "source": [
    "# Here is a constrained entropy maximization problem:\n",
    "#    maximize    sum_{i=1}^n x_i log x_i \n",
    "#    subject to  1' x = 1 \n",
    "#                 Ax \\leq b\n",
    "# where x in R^n is our optimization variable and A in R^{m x n}, b in R^m."
   ]
  },
  {
   "cell_type": "code",
   "execution_count": 5,
   "metadata": {
    "collapsed": false
   },
   "outputs": [
    {
     "name": "stdout",
     "output_type": "stream",
     "text": [
      "----------------------------------------------------------------------------\n",
      "\tSCS v1.2.6 - Splitting Conic Solver\n",
      "\t(c) Brendan O'Donoghue, Stanford University, 2012-2016\n",
      "----------------------------------------------------------------------------\n",
      "Lin-sys: sparse-indirect, nnz in A = 1150, CG tol ~ 1/iter^(2.00)\n",
      "eps = 1.00e-03, alpha = 1.50, max_iters = 2500, normalize = 1, scale = 1.00\n",
      "Variables n = 100, constraints m = 171\n",
      "Cones:\tprimal zero / dual free vars: 1\n",
      "\tlinear vars: 20\n",
      "\texp vars: 150, dual exp vars: 0\n",
      "Setup time: 5.74e-03s\n",
      "----------------------------------------------------------------------------\n",
      " Iter | pri res | dua res | rel gap | pri obj | dua obj | kap/tau | time (s)\n",
      "----------------------------------------------------------------------------\n",
      "     0| 1.#Je+00  1.#Je+00 -1.#Je+00 -1.#Je+00 -1.#Je+00  1.#Je+00  4.65e-03 \n",
      "   100| 9.28e-02  3.83e-03  8.03e-01 -1.22e-01  3.95e+00  7.62e-15  6.62e-02 \n",
      "   140| 1.#Je+00  1.#Je+00 -1.#Je+00  1.#Je+00  1.#Je+00  1.#Je+00  7.07e-02 \n",
      "----------------------------------------------------------------------------\n",
      "Status: Infeasible\n",
      "Timing: Solve time: 7.11e-02s\n",
      "\tLin-sys: avg # CG iterations: 3.73, avg solve time: 1.53e-05s\n",
      "\tCones: avg projection time: 4.49e-04s\n",
      "----------------------------------------------------------------------------\n",
      "Certificate of primal infeasibility:\n",
      "dist(y, K*) = 0.0000e+00\n",
      "|A'y|_2 * |b|_2 = 1.0843e-04\n",
      "b'y = -1.0000\n",
      "============================================================================\n",
      "infeasible\n",
      "-inf\n"
     ]
    }
   ],
   "source": [
    "from cvxpy import *\n",
    "import cvxpy as cp\n",
    "import numpy as np\n",
    "from pylab import *\n",
    "import math\n",
    "\n",
    "n = 50;\n",
    "m = 20;\n",
    "A = np.random.randn(m, n); \n",
    "b = np.random.randn(m, 1); \n",
    "\n",
    "x = Variable(n);\n",
    "obj = Maximize(sum_entries(entr(x)))\n",
    "prob = Problem(obj, [sum_entries(x) == 1, A * x <= b])\n",
    "prob.solve(solver=SCS, verbose=True)\n",
    "\n",
    "print prob.status\n",
    "print prob.value\n",
    "# println(x.value)"
   ]
  },
  {
   "cell_type": "code",
   "execution_count": null,
   "metadata": {
    "collapsed": true
   },
   "outputs": [],
   "source": []
  }
 ],
 "metadata": {
  "kernelspec": {
   "display_name": "Python 2",
   "language": "python",
   "name": "python2"
  },
  "language_info": {
   "codemirror_mode": {
    "name": "ipython",
    "version": 2
   },
   "file_extension": ".py",
   "mimetype": "text/x-python",
   "name": "python",
   "nbconvert_exporter": "python",
   "pygments_lexer": "ipython2",
   "version": "2.7.13"
  }
 },
 "nbformat": 4,
 "nbformat_minor": 2
}
