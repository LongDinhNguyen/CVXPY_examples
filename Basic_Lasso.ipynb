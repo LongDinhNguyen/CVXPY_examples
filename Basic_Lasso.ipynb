{
 "cells": [
  {
   "cell_type": "code",
   "execution_count": 1,
   "metadata": {
    "collapsed": true
   },
   "outputs": [],
   "source": [
    "# Boyd & Vandenberghe, \"Convex Optimization\"\n",
    "#\n",
    "# Solved a Lasso problem:\n",
    "#           minimize    ||Ax - b||_2^2 + gamma*||x||_1\n",
    "#               s.t.    some constraints if have"
   ]
  },
  {
   "cell_type": "code",
   "execution_count": 12,
   "metadata": {
    "collapsed": false
   },
   "outputs": [
    {
     "name": "stdout",
     "output_type": "stream",
     "text": [
      "----------------------------------------------------------------------------\n",
      "\tSCS v1.2.6 - Splitting Conic Solver\n",
      "\t(c) Brendan O'Donoghue, Stanford University, 2012-2016\n",
      "----------------------------------------------------------------------------\n",
      "Lin-sys: sparse-indirect, nnz in A = 2752, CG tol ~ 1/iter^(2.00)\n",
      "eps = 1.00e-03, alpha = 1.50, max_iters = 2500, normalize = 1, scale = 1.00\n",
      "Variables n = 101, constraints m = 202\n",
      "Cones:\tlinear vars: 150\n",
      "\tsoc vars: 52, soc blks: 1\n",
      "Setup time: 5.42e-03s\n",
      "----------------------------------------------------------------------------\n",
      " Iter | pri res | dua res | rel gap | pri obj | dua obj | kap/tau | time (s)\n",
      "----------------------------------------------------------------------------\n",
      "     0| 1.#Je+00  1.#Je+00 -1.#Je+00 -1.#Je+00  1.#Je+00  1.#Je+00  4.08e-03 \n",
      "    80| 3.77e-04  6.51e-04  5.01e-05  2.89e+01  2.89e+01  1.41e-15  9.25e-03 \n",
      "----------------------------------------------------------------------------\n",
      "Status: Solved\n",
      "Timing: Solve time: 9.29e-03s\n",
      "\tLin-sys: avg # CG iterations: 4.48, avg solve time: 4.97e-05s\n",
      "\tCones: avg projection time: 5.13e-07s\n",
      "----------------------------------------------------------------------------\n",
      "Error metrics:\n",
      "dist(s, K) = 8.1147e-17, dist(y, K*) = 0.0000e+00, s'y/|s||y| = 9.2701e-17\n",
      "|Ax + s - b|_2 / (1 + |b|_2) = 3.7747e-04\n",
      "|A'y + c|_2 / (1 + |c|_2) = 6.5069e-04\n",
      "|c'x + b'y| / (1 + |c'x| + |b'y|) = 5.0147e-05\n",
      "----------------------------------------------------------------------------\n",
      "c'x = 28.8843, -b'y = 28.8873\n",
      "============================================================================\n",
      "Status:  optimal\n",
      "Optimal value =  28.884332164\n"
     ]
    }
   ],
   "source": [
    "from cvxpy import *\n",
    "import cvxpy as cp\n",
    "import numpy as np\n",
    "from pylab import *\n",
    "import math\n",
    "\n",
    "n = 50;\n",
    "\n",
    "A = np.random.randn(n, n)\n",
    "A = A.T * A + eye(n,n)\n",
    "b = np.random.randn(n,1); \n",
    "gamma = 1;\n",
    "\n",
    "x = Variable(n)\n",
    "obj = Minimize(sum_squares(A*x - b) + gamma*sum_entries(abs(x)))\n",
    "prob = Problem(obj, [x >= 0] )\n",
    "\n",
    "prob.solve(solver=SCS, verbose=True)\n",
    "\n",
    "print \"Status: \", prob.status\n",
    "print \"Optimal value = \", prob.value\n",
    "# println(\"x = \", x)"
   ]
  },
  {
   "cell_type": "code",
   "execution_count": null,
   "metadata": {
    "collapsed": true
   },
   "outputs": [],
   "source": []
  }
 ],
 "metadata": {
  "kernelspec": {
   "display_name": "Python 2",
   "language": "python",
   "name": "python2"
  },
  "language_info": {
   "codemirror_mode": {
    "name": "ipython",
    "version": 2
   },
   "file_extension": ".py",
   "mimetype": "text/x-python",
   "name": "python",
   "nbconvert_exporter": "python",
   "pygments_lexer": "ipython2",
   "version": "2.7.13"
  }
 },
 "nbformat": 4,
 "nbformat_minor": 2
}
