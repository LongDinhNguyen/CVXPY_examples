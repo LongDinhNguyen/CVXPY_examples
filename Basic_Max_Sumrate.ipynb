{
 "cells": [
  {
   "cell_type": "code",
   "execution_count": 1,
   "metadata": {
    "collapsed": true
   },
   "outputs": [],
   "source": [
    "# Long Dinh Nguyen, PhD student at Queen's University Belfast\n",
    "# Email: dinhlonghcmut@gmail.com (lnguyen04@qub.ac.uk)\n",
    "#\n",
    "#\n",
    "#\n",
    "# This convex problem is to maximize the sum rate with multiple constraints (power budget, ...) \n",
    "# Assuming all interference is eliminated by techniques (Conj, ZF, MMSE ...)\n",
    "# The general problem as\n",
    "# max log(1 + |h'*x|^2/delta)\n",
    "# s.t. ||x||_2^2 <= P_{max}\n",
    "###########################################"
   ]
  },
  {
   "cell_type": "code",
   "execution_count": null,
   "metadata": {
    "collapsed": true
   },
   "outputs": [],
   "source": [
    "from cvxpy import *\n",
    "import cvxpy as cp\n",
    "import numpy as np\n",
    "from pylab import *\n",
    "import math\n",
    "\n",
    "# Set data \n",
    "n = 50; # size of MISO (multi-antenna at BS and single-antenna at UE)\n",
    "delta = 1; # normalized the Gaussian noise at receivers\n",
    "P0 = 100; # the maximum power budget\n",
    "\n",
    "h = 0.5*(randn(n,1) + im*randn(n,1)) # channel gain from BS to UE\n",
    "\n",
    "# println(h)\n",
    "\n",
    "# set variable\n",
    "x = ComplexVariable(n)\n",
    "\n",
    "obj = log(1 + real(h'*x)/delta)\n",
    "problem = maximize(obj, [square(norm(x,2)) <= P0])\n",
    "\n",
    "using ECOS\n",
    "@time solve!(problem, ECOSSolver())\n",
    "\n",
    "println(\"Status: \", problem.status)\n",
    "println(\"Objective value: \", problem.optval)\n",
    "# println(\"x = \", x)"
   ]
  }
 ],
 "metadata": {
  "kernelspec": {
   "display_name": "Python 2",
   "language": "python",
   "name": "python2"
  },
  "language_info": {
   "codemirror_mode": {
    "name": "ipython",
    "version": 2
   },
   "file_extension": ".py",
   "mimetype": "text/x-python",
   "name": "python",
   "nbconvert_exporter": "python",
   "pygments_lexer": "ipython2",
   "version": "2.7.13"
  }
 },
 "nbformat": 4,
 "nbformat_minor": 2
}
