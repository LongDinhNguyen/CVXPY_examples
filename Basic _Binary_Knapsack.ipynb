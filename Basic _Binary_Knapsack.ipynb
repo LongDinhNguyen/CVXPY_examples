{
 "cells": [
  {
   "cell_type": "code",
   "execution_count": 1,
   "metadata": {
    "collapsed": true
   },
   "outputs": [],
   "source": [
    "# Given a knapsack of some capacity C and n objects with object i having weight w_i and profit p_i, \n",
    "# the goal is to choose some subset of the objects that can fit in the knapsack \n",
    "# (i.e. the sum of their weights is no more than C) while maximizing profit.\n",
    "# This can be formulated as a mixed-integer program as:\n",
    "# maximize x'p \n",
    "#            x in {0, 1} \n",
    "#            w'x <= C \n",
    "# x is a vector is size n where x_i is one if we chose to keep the object in the knapsack, 0 otherwise."
   ]
  },
  {
   "cell_type": "code",
   "execution_count": 4,
   "metadata": {
    "collapsed": false
   },
   "outputs": [
    {
     "name": "stdout",
     "output_type": "stream",
     "text": [
      "Size opt problem:  10\n",
      "optimal\n",
      "308.999999991\n",
      "[[  1.00000000e+00]\n",
      " [  1.00000000e+00]\n",
      " [  1.00000000e+00]\n",
      " [  1.00000000e+00]\n",
      " [  5.11772233e-12]\n",
      " [  9.99999999e-01]\n",
      " [  1.60596668e-10]\n",
      " [  1.39676565e-10]\n",
      " [  1.26729785e-10]\n",
      " [  9.21519377e-11]]\n"
     ]
    }
   ],
   "source": [
    "from cvxpy import *\n",
    "import cvxpy as cp\n",
    "import numpy as np \n",
    "\n",
    "# Data set\n",
    "w = np.mat('23, 31, 29, 44, 53, 38, 63, 85, 89, 82')\n",
    "C = 165 \n",
    "p =  np.mat('92, 57, 49, 68, 60, 43, 67, 84, 87, 72')\n",
    "n = len(w.T)\n",
    "print \"Size opt problem: \", n\n",
    "\n",
    "x = cp.Bool(n) # Variable(n, binary)\n",
    "# x = Int(n) # Variable(n, integer)\n",
    "obj = cp.Maximize( p*x )\n",
    "prob = cp.Problem(obj, [w*x <= C, x >= 0])\n",
    "prob.solve(solver=ECOS_BB, verbose=False)\n",
    "\n",
    "\n",
    "print prob.status\n",
    "print prob.value\n",
    "print x.value"
   ]
  },
  {
   "cell_type": "code",
   "execution_count": null,
   "metadata": {
    "collapsed": true
   },
   "outputs": [],
   "source": []
  }
 ],
 "metadata": {
  "kernelspec": {
   "display_name": "Python 2",
   "language": "python",
   "name": "python2"
  },
  "language_info": {
   "codemirror_mode": {
    "name": "ipython",
    "version": 2
   },
   "file_extension": ".py",
   "mimetype": "text/x-python",
   "name": "python",
   "nbconvert_exporter": "python",
   "pygments_lexer": "ipython2",
   "version": "2.7.13"
  }
 },
 "nbformat": 4,
 "nbformat_minor": 2
}
