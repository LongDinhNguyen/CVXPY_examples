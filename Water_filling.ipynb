{
 "cells": [
  {
   "cell_type": "code",
   "execution_count": 1,
   "metadata": {
    "collapsed": false
   },
   "outputs": [
    {
     "ename": "IndentationError",
     "evalue": "unexpected indent (<ipython-input-1-250f212c0ea2>, line 12)",
     "output_type": "error",
     "traceback": [
      "\u001b[0;36m  File \u001b[0;32m\"<ipython-input-1-250f212c0ea2>\"\u001b[0;36m, line \u001b[0;32m12\u001b[0m\n\u001b[0;31m    '''\u001b[0m\n\u001b[0m    ^\u001b[0m\n\u001b[0;31mIndentationError\u001b[0m\u001b[0;31m:\u001b[0m unexpected indent\n"
     ]
    }
   ],
   "source": [
    "#!/usr/bin/env python3\n",
    "# @author: R. Gowers, S. Al-Izzi, T. Pollington, R. Hill & K. Briggs\n",
    "# Boyd and Vandenberghe, Convex Optimization, example 5.2 page 145\n",
    "\n",
    "'''\n",
    "Input parameters   \n",
    "  n: Number of communication channels or 'buckets'\n",
    "  a: Floor above the baseline for each channel at which power can be added\n",
    "  sum_x: Total power to be allocated to the n channels\n",
    "'''\n",
    "\n",
    "  '''\n",
    "Boyd and Vandenberghe, Convex Optimization, example 5.2 page 145\n",
    "Water-filling.\n",
    "  \n",
    "This problem arises in information theory, in allocating power to a set of\n",
    "n communication channels in order to maximise the total channel capacity.\n",
    "The variable x_i represents the transmitter power allocated to the ith channel, \n",
    "and log(α_i+x_i) gives the capacity or maximum communication rate of the channel. \n",
    "The objective is to minimize  -∑log(α_i+x_i) subject to the constraint ∑x_i = 1 \n",
    "  '''"
   ]
  },
  {
   "cell_type": "code",
   "execution_count": 2,
   "metadata": {
    "collapsed": true
   },
   "outputs": [],
   "source": [
    "import numpy as np\n",
    "import cvxpy as cvx\n",
    "\n",
    "def water_filling(n,a,sum_x=1):\n",
    "    # Declare variables and parameters\n",
    "  x = cvx.Variable(n)\n",
    "  alpha = cvx.Parameter(n,sign='positive')\n",
    "  alpha.value = a\n",
    "  #alpha.value = np.ones(n)\n",
    "  # Choose objective function. Interpret as maximising the total communication rate of all the channels\n",
    "  obj = cvx.Maximize(cvx.sum_entries(cvx.log(alpha + x)))\n",
    "  # Declare constraints\n",
    "  constraints = [x >= 0, cvx.sum_entries(x) - sum_x == 0]\n",
    "  # Solve\n",
    "  prob = cvx.Problem(obj, constraints)\n",
    "  prob.solve()\n",
    "  if(prob.status=='optimal'):\n",
    "    return prob.status,prob.value,x.value\n",
    "  else:\n",
    "    return prob.status,np.nan,np.nan\n",
    "\n"
   ]
  },
  {
   "cell_type": "code",
   "execution_count": 4,
   "metadata": {
    "collapsed": false
   },
   "outputs": [
    {
     "name": "stdout",
     "output_type": "stream",
     "text": [
      "None\n",
      "Number of buckets = 3\n",
      "('Problem status: ', 'optimal')\n",
      "Optimal data rate = 0.863 \n",
      "('Transmitter powers:\\n', matrix([[ 0.533],\n",
      "        [ 0.333],\n",
      "        [ 0.133]]))\n"
     ]
    }
   ],
   "source": [
    "# as an example, solve the water filling problem for three buckets\n",
    "if __name__ == '__main__':\n",
    "  print(water_filling.__doc__)\n",
    "  # print all arrays to 3 significant figures\n",
    "  np.set_printoptions(precision=3)\n",
    "  buckets=3\n",
    "  alpha = np.array([0.8,1.0,1.2])\n",
    "  print('Number of buckets = %s'%buckets)\n",
    "  stat,prob,x=water_filling(buckets,alpha)\n",
    "  print('Problem status: ',stat)\n",
    "  print('Optimal data rate = %.4g '%prob)\n",
    "  print('Transmitter powers:\\n', x)"
   ]
  },
  {
   "cell_type": "code",
   "execution_count": null,
   "metadata": {
    "collapsed": true
   },
   "outputs": [],
   "source": []
  }
 ],
 "metadata": {
  "kernelspec": {
   "display_name": "Python 2",
   "language": "python",
   "name": "python2"
  },
  "language_info": {
   "codemirror_mode": {
    "name": "ipython",
    "version": 2
   },
   "file_extension": ".py",
   "mimetype": "text/x-python",
   "name": "python",
   "nbconvert_exporter": "python",
   "pygments_lexer": "ipython2",
   "version": "2.7.13"
  }
 },
 "nbformat": 4,
 "nbformat_minor": 2
}
