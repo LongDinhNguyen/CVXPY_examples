{
 "cells": [
  {
   "cell_type": "code",
   "execution_count": 1,
   "metadata": {
    "collapsed": true
   },
   "outputs": [],
   "source": [
    "#  Copyright 2017, Iain Dunning, Joey Huchette, Miles Lubin, and contributors\n",
    "#  This Source Code Form is subject to the terms of the Mozilla Public\n",
    "#  License, v. 2.0. If a copy of the MPL was not distributed with this\n",
    "#  file, You can obtain one at http://mozilla.org/MPL/2.0/.\n",
    "#############################################################################\n",
    "#\n",
    "# Solves a simple LP:\n",
    "# max 5x + 3y\n",
    "#  st 1x + 5y <= 3\n",
    "#      0 <= x <= 2\n",
    "#      0 <= y <= 20\n",
    "#############################################################################"
   ]
  },
  {
   "cell_type": "code",
   "execution_count": 1,
   "metadata": {
    "collapsed": false
   },
   "outputs": [
    {
     "name": "stdout",
     "output_type": "stream",
     "text": [
      "\n",
      "ECOS 2.0.4 - (C) embotech GmbH, Zurich Switzerland, 2012-15. Web: www.embotech.com/ECOS\n",
      "\n",
      "It     pcost       dcost      gap   pres   dres    k/t    mu     step   sigma     IR    |   BT\n",
      " 0  -1.252e+01  -2.013e+02  +5e+02  3e-01  3e-01  1e+00  8e+01    ---    ---    1  1  - |  -  - \n",
      " 1  -9.764e+00  -1.482e+01  +1e+01  1e-02  8e-03  2e-01  2e+00  0.9703  2e-03   0  0  0 |  0  0\n",
      " 2  -1.080e+01  -1.123e+01  +1e+00  7e-04  7e-04  2e-02  2e-01  0.9005  4e-03   0  0  0 |  0  0\n",
      " 3  -1.060e+01  -1.061e+01  +3e-02  2e-05  2e-05  1e-03  6e-03  0.9800  5e-03   0  0  0 |  0  0\n",
      " 4  -1.060e+01  -1.060e+01  +4e-04  2e-07  2e-07  1e-05  7e-05  0.9890  1e-04   1  0  0 |  0  0\n",
      " 5  -1.060e+01  -1.060e+01  +4e-06  2e-09  2e-09  1e-07  8e-07  0.9890  1e-04   1  0  0 |  0  0\n",
      " 6  -1.060e+01  -1.060e+01  +5e-08  2e-11  2e-11  1e-09  8e-09  0.9890  1e-04   1  0  0 |  0  0\n",
      "\n",
      "OPTIMAL (within feastol=2.1e-11, reltol=4.4e-09, abstol=4.7e-08).\n",
      "Runtime: 0.001355 seconds.\n",
      "\n",
      "Status:  optimal\n",
      "Objective value:  10.6000000003\n",
      "x =  2.00000000072\n",
      "y =  0.19999999891\n"
     ]
    }
   ],
   "source": [
    "from cvxpy import *\n",
    "import cvxpy as cp\n",
    "import numpy as np\n",
    "\n",
    "x = Variable()\n",
    "y = Variable()\n",
    "\n",
    "obj = Maximize(5*x+3*y)\n",
    "constraints = [1*x + 5*y <= 3, 0 <= x, x <= 2, 0 <= y, y <= 30]\n",
    "\n",
    "prob = Problem(obj, constraints)\n",
    "\n",
    "prob.solve(solver=ECOS, verbose=True)\n",
    "\n",
    "print \"Status: \", prob.status\n",
    "print \"Objective value: \", prob.value\n",
    "print \"x = \", x.value\n",
    "print \"y = \", y.value"
   ]
  },
  {
   "cell_type": "code",
   "execution_count": null,
   "metadata": {
    "collapsed": true
   },
   "outputs": [],
   "source": []
  }
 ],
 "metadata": {
  "kernelspec": {
   "display_name": "Python 2",
   "language": "python",
   "name": "python2"
  },
  "language_info": {
   "codemirror_mode": {
    "name": "ipython",
    "version": 2
   },
   "file_extension": ".py",
   "mimetype": "text/x-python",
   "name": "python",
   "nbconvert_exporter": "python",
   "pygments_lexer": "ipython2",
   "version": "2.7.13"
  }
 },
 "nbformat": 4,
 "nbformat_minor": 2
}
