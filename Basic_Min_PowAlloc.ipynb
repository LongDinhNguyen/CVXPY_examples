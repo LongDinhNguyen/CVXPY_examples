{
 "cells": [
  {
   "cell_type": "code",
   "execution_count": 6,
   "metadata": {
    "collapsed": true
   },
   "outputs": [],
   "source": [
    "# Long Dinh Nguyen, PhD student at Queen's University Belfast\n",
    "# Email: dinhlonghcmut@gmail.com (lnguyen04@qub.ac.uk)\n",
    "#\n",
    "#\n",
    "#\n",
    "# This convex problem is to minimize the transmit power with multiple constraints (power budget, data rate QoS, ...) \n",
    "# Assuming all interference is eliminated by techniques (Conj, ZF, MMSE ...)\n",
    "# The general problem as\n",
    "# min ||x||_2^2\n",
    "# s.t. log(1 + |h'*x|^2/delta) >= r_{min}\n",
    "#      ||x||_2^2 <= P_{max}\n",
    "###########################################\n",
    "\n",
    "# cvxpy can't handle complex numbers right now.\n",
    "# The main obstacle to adding complex variables is rewriting all the atoms to handle the complex case. \n",
    "# It's not difficult, just time consuming."
   ]
  },
  {
   "cell_type": "code",
   "execution_count": 12,
   "metadata": {
    "collapsed": false
   },
   "outputs": [
    {
     "name": "stdout",
     "output_type": "stream",
     "text": [
      "\n",
      "ECOS 2.0.4 - (C) embotech GmbH, Zurich Switzerland, 2012-15. Web: www.embotech.com/ECOS\n",
      "\n",
      "It     pcost       dcost      gap   pres   dres    k/t    mu     step   sigma     IR    |   BT\n",
      " 0  +2.434e-17  -9.586e+01  +3e+01  1e-02  2e-01  1e+00  6e+00    ---    ---    1  1  - |  -  - \n",
      " 1  +9.948e-01  -3.035e+01  +9e+00  5e-03  6e-02  6e-01  2e+00  0.7091  6e-02   1  1  1 |  0  0\n",
      " 2  +1.927e+00  -6.868e+01  +7e+00  2e-02  8e-02  3e+00  2e+00  0.4671  6e-01   1  1  2 |  0  0\n",
      " 3  +7.994e+00  +5.501e+00  +3e-01  6e-04  3e-03  2e-01  6e-02  0.9726  1e-02   1  1  1 |  0  0\n",
      " 4  +8.613e+00  +7.931e+00  +6e-02  2e-04  8e-04  1e-01  1e-02  0.8219  8e-02   1  1  1 |  0  0\n",
      " 5  +8.753e+00  +8.220e+00  +4e-02  2e-04  6e-04  1e-01  9e-03  0.5618  4e-01   2  2  2 |  0  0\n",
      " 6  +8.974e+00  +8.906e+00  +5e-03  2e-05  7e-05  1e-02  1e-03  0.8774  6e-03   1  1  1 |  0  0\n",
      " 7  +9.016e+00  +9.012e+00  +3e-04  1e-06  4e-06  3e-04  7e-05  0.9629  2e-02   2  1  1 |  0  0\n",
      " 8  +9.016e+00  +9.016e+00  +3e-05  9e-08  3e-07  3e-05  6e-06  0.9165  1e-03   1  1  1 |  0  0\n",
      " 9  +9.017e+00  +9.017e+00  +1e-06  5e-09  2e-08  4e-06  3e-07  0.9873  5e-02   2  1  1 |  0  0\n",
      "10  +9.017e+00  +9.017e+00  +3e-08  1e-10  4e-10  8e-08  6e-09  0.9798  1e-04   1  1  1 |  0  0\n",
      "\n",
      "OPTIMAL (within feastol=4.0e-10, reltol=3.0e-09, abstol=2.7e-08).\n",
      "Runtime: 0.002443 seconds.\n",
      "\n",
      "('Status: ', 'optimal')\n",
      "('Objective value: ', 9.01665917060219)\n"
     ]
    }
   ],
   "source": [
    "from cvxpy import *\n",
    "import cvxpy as cp\n",
    "import numpy as np\n",
    "from pylab import *\n",
    "import math\n",
    "\n",
    "# Set data \n",
    "n = 5; # size of MISO (multi-antenna at BS and single-antenna at UE)\n",
    "delta = 1; # normalized the Gaussian noise at receivers\n",
    "P0 = 100; # the maximum power budget\n",
    "r0 = 2; # the data rate QoS\n",
    "\n",
    "h = 0.5*( np.random.randn(n,1) ) # channel gain from BS to UE\n",
    "\n",
    "# set variable\n",
    "x = Variable(n)\n",
    "\n",
    "obj = Minimize(sum_squares(x))\n",
    "prob = Problem(obj, [sum_squares(x) <= P0, h.T*x >= sqrt(exp(r0)*delta)])\n",
    "\n",
    "prob.solve(solver=ECOS, verbose=True)\n",
    "\n",
    "print (\"Status: \", prob.status)\n",
    "print (\"Objective value: \", prob.value)\n",
    "# println(\"x = \", x)"
   ]
  },
  {
   "cell_type": "code",
   "execution_count": null,
   "metadata": {
    "collapsed": true
   },
   "outputs": [],
   "source": []
  }
 ],
 "metadata": {
  "kernelspec": {
   "display_name": "Python 2",
   "language": "python",
   "name": "python2"
  },
  "language_info": {
   "codemirror_mode": {
    "name": "ipython",
    "version": 2
   },
   "file_extension": ".py",
   "mimetype": "text/x-python",
   "name": "python",
   "nbconvert_exporter": "python",
   "pygments_lexer": "ipython2",
   "version": "2.7.13"
  }
 },
 "nbformat": 4,
 "nbformat_minor": 2
}
