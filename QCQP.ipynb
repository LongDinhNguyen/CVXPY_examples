{
 "cells": [
  {
   "cell_type": "code",
   "execution_count": 1,
   "metadata": {
    "collapsed": true
   },
   "outputs": [],
   "source": [
    "# Taken from CVX website http://cvxr.com/cvx/examples/\n",
    "# Derived from Example: Finding the fastest mixing Markov chain on a graph\n",
    "# Ported from cvx matlab to cvxpy by Misrab Faizullah-Khan\n",
    "# Original comments below\n",
    "\n",
    "# Boyd & Vandenberghe, \"Convex Optimization\"\n",
    "# Joelle Skaf - 08/23/05\n",
    "#\n",
    "# Solved a QCQP with 3 inequalities:\n",
    "#           minimize    1/2 x'*P0*x + q0'*r + r0\n",
    "#               s.t.    1/2 x'*Pi*x + qi'*r + ri <= 0   for i=1,2,3\n",
    "# and verifies that strong duality holds."
   ]
  },
  {
   "cell_type": "code",
   "execution_count": 33,
   "metadata": {
    "collapsed": false
   },
   "outputs": [
    {
     "name": "stdout",
     "output_type": "stream",
     "text": [
      "[[ 0.27974273  0.65477363  0.26333049  0.04726662  0.75761996  0.39308715]\n",
      " [ 0.65477363  0.93583427  0.37347309  0.40092927  0.0829019   0.59441426]\n",
      " [ 0.26333049  0.37347309  0.62397468  0.49786357  0.27187507  0.48203686]\n",
      " [ 0.04726662  0.40092927  0.49786357  0.12296979  0.6158938   0.26188589]\n",
      " [ 0.75761996  0.0829019   0.27187507  0.6158938   0.24380225  0.03515903]\n",
      " [ 0.39308715  0.59441426  0.48203686  0.26188589  0.03515903  0.07392922]]\n",
      "[[ 1.  0.  0.  0.  0.  0.]\n",
      " [ 0.  1.  0.  0.  0.  0.]\n",
      " [ 0.  0.  1.  0.  0.  0.]\n",
      " [ 0.  0.  0.  1.  0.  0.]\n",
      " [ 0.  0.  0.  0.  1.  0.]\n",
      " [ 0.  0.  0.  0.  0.  1.]]\n"
     ]
    }
   ],
   "source": [
    "# for decimal division\n",
    "from __future__ import division\n",
    "import sys\n",
    " \n",
    "from cvxpy import * \n",
    "import cvxopt\n",
    "import cvxpy as cp \n",
    "import numpy as np\n",
    "from pylab import *\n",
    "import math\n",
    "\n",
    "\n",
    "# Input data\n",
    "n = 6\n",
    "eps = sys.float_info.epsilon\n",
    "\n",
    "P0 = np.random.rand(n, n)\n",
    "eye1 = eye(n,n)\n",
    "P0 = P0.T * P0 + eps * eye1\n",
    "\n",
    "print P0\n",
    "print eye1\n",
    "\n",
    "P1 = np.random.randn(n, n)\n",
    "P1 = P1.T*P1\n",
    "P2 = np.random.randn(n, n)\n",
    "P2 = P2.T*P2\n",
    "P3 = np.random.randn(n, n)\n",
    "P3 = P3.T*P3\n",
    "\n",
    "q0 = np.random.randn(n, 1)\n",
    "q1 = np.random.randn(n, 1)\n",
    "q2 = np.random.randn(n, 1)\n",
    "q3 = np.random.randn(n, 1)\n",
    "\n",
    "r0 = np.random.randn(1, 1)\n",
    "r1 = np.random.randn(1, 1)\n",
    "r2 = np.random.randn(1, 1)\n",
    "r3 = np.random.randn(1, 1)"
   ]
  },
  {
   "cell_type": "code",
   "execution_count": 37,
   "metadata": {
    "collapsed": false
   },
   "outputs": [
    {
     "ename": "DCPError",
     "evalue": "Problem does not follow DCP rules.",
     "output_type": "error",
     "traceback": [
      "\u001b[0;31m---------------------------------------------------------------------------\u001b[0m",
      "\u001b[0;31mDCPError\u001b[0m                                  Traceback (most recent call last)",
      "\u001b[0;32m<ipython-input-37-dfe3f7b5059b>\u001b[0m in \u001b[0;36m<module>\u001b[0;34m()\u001b[0m\n\u001b[1;32m     11\u001b[0m \u001b[1;31m# to check if strong duality holds i.e. the duality gap is effectively zero\u001b[0m\u001b[1;33m\u001b[0m\u001b[1;33m\u001b[0m\u001b[0m\n\u001b[1;32m     12\u001b[0m \u001b[0mp\u001b[0m \u001b[1;33m=\u001b[0m \u001b[0mcp\u001b[0m\u001b[1;33m.\u001b[0m\u001b[0mProblem\u001b[0m\u001b[1;33m(\u001b[0m\u001b[0mobj\u001b[0m\u001b[1;33m,\u001b[0m \u001b[0mconstraints\u001b[0m\u001b[1;33m)\u001b[0m\u001b[1;33m\u001b[0m\u001b[0m\n\u001b[0;32m---> 13\u001b[0;31m \u001b[0mprimal_result\u001b[0m \u001b[1;33m=\u001b[0m \u001b[0mp\u001b[0m\u001b[1;33m.\u001b[0m\u001b[0msolve\u001b[0m\u001b[1;33m(\u001b[0m\u001b[1;33m)\u001b[0m\u001b[1;33m\u001b[0m\u001b[0m\n\u001b[0m",
      "\u001b[0;32mC:\\Anaconda2\\lib\\site-packages\\cvxpy\\problems\\problem.pyc\u001b[0m in \u001b[0;36msolve\u001b[0;34m(self, *args, **kwargs)\u001b[0m\n\u001b[1;32m    207\u001b[0m             \u001b[1;32mreturn\u001b[0m \u001b[0mfunc\u001b[0m\u001b[1;33m(\u001b[0m\u001b[0mself\u001b[0m\u001b[1;33m,\u001b[0m \u001b[1;33m*\u001b[0m\u001b[0margs\u001b[0m\u001b[1;33m,\u001b[0m \u001b[1;33m**\u001b[0m\u001b[0mkwargs\u001b[0m\u001b[1;33m)\u001b[0m\u001b[1;33m\u001b[0m\u001b[0m\n\u001b[1;32m    208\u001b[0m         \u001b[1;32melse\u001b[0m\u001b[1;33m:\u001b[0m\u001b[1;33m\u001b[0m\u001b[0m\n\u001b[0;32m--> 209\u001b[0;31m             \u001b[1;32mreturn\u001b[0m \u001b[0mself\u001b[0m\u001b[1;33m.\u001b[0m\u001b[0m_solve\u001b[0m\u001b[1;33m(\u001b[0m\u001b[1;33m*\u001b[0m\u001b[0margs\u001b[0m\u001b[1;33m,\u001b[0m \u001b[1;33m**\u001b[0m\u001b[0mkwargs\u001b[0m\u001b[1;33m)\u001b[0m\u001b[1;33m\u001b[0m\u001b[0m\n\u001b[0m\u001b[1;32m    210\u001b[0m \u001b[1;33m\u001b[0m\u001b[0m\n\u001b[1;32m    211\u001b[0m     \u001b[1;33m@\u001b[0m\u001b[0mclassmethod\u001b[0m\u001b[1;33m\u001b[0m\u001b[0m\n",
      "\u001b[0;32mC:\\Anaconda2\\lib\\site-packages\\cvxpy\\problems\\problem.pyc\u001b[0m in \u001b[0;36m_solve\u001b[0;34m(self, solver, ignore_dcp, warm_start, verbose, parallel, **kwargs)\u001b[0m\n\u001b[1;32m    281\u001b[0m                       \"Solving a convex relaxation.\")\n\u001b[1;32m    282\u001b[0m             \u001b[1;32melse\u001b[0m\u001b[1;33m:\u001b[0m\u001b[1;33m\u001b[0m\u001b[0m\n\u001b[0;32m--> 283\u001b[0;31m                 \u001b[1;32mraise\u001b[0m \u001b[0mDCPError\u001b[0m\u001b[1;33m(\u001b[0m\u001b[1;34m\"Problem does not follow DCP rules.\"\u001b[0m\u001b[1;33m)\u001b[0m\u001b[1;33m\u001b[0m\u001b[0m\n\u001b[0m\u001b[1;32m    284\u001b[0m \u001b[1;33m\u001b[0m\u001b[0m\n\u001b[1;32m    285\u001b[0m         \u001b[1;32mif\u001b[0m \u001b[0msolver\u001b[0m \u001b[1;33m==\u001b[0m \u001b[0ms\u001b[0m\u001b[1;33m.\u001b[0m\u001b[0mLS\u001b[0m\u001b[1;33m:\u001b[0m\u001b[1;33m\u001b[0m\u001b[0m\n",
      "\u001b[0;31mDCPError\u001b[0m: Problem does not follow DCP rules."
     ]
    }
   ],
   "source": [
    "# Form the problem\n",
    "x = Variable(n)\n",
    "obj = cp.Minimize( 0.5*cp.quad_form(x,P0) + q0.T*x + r0 )\n",
    "\n",
    "constraints = [ 0.5*cp.quad_form(x,P1) + q1.T*x + r1 <= 0,\n",
    "                0.5*cp.quad_form(x,P2) + q2.T*x + r2 <= 0,\n",
    "                0.5*cp.quad_form(x,P3) + q3.T*x + r3 <= 0,\n",
    "               ]\n",
    "\n",
    "# We now find the primal result and compare it to the dual result\n",
    "# to check if strong duality holds i.e. the duality gap is effectively zero\n",
    "p = cp.Problem(obj, constraints)\n",
    "primal_result = p.solve()"
   ]
  },
  {
   "cell_type": "code",
   "execution_count": 4,
   "metadata": {
    "collapsed": false
   },
   "outputs": [
    {
     "ename": "NameError",
     "evalue": "name 'p' is not defined",
     "output_type": "error",
     "traceback": [
      "\u001b[0;31m---------------------------------------------------------------------------\u001b[0m",
      "\u001b[0;31mNameError\u001b[0m                                 Traceback (most recent call last)",
      "\u001b[0;32m<ipython-input-4-05d23767a15f>\u001b[0m in \u001b[0;36m<module>\u001b[0;34m()\u001b[0m\n\u001b[0;32m----> 1\u001b[0;31m \u001b[1;32mif\u001b[0m \u001b[0mp\u001b[0m\u001b[1;33m.\u001b[0m\u001b[0mstatus\u001b[0m \u001b[1;32mis\u001b[0m \u001b[0mOPTIMAL\u001b[0m\u001b[1;33m:\u001b[0m\u001b[1;33m\u001b[0m\u001b[0m\n\u001b[0m\u001b[1;32m      2\u001b[0m     \u001b[1;31m# Note that since our data is random, we may need to run this program multiple times to get a feasible primal\u001b[0m\u001b[1;33m\u001b[0m\u001b[1;33m\u001b[0m\u001b[0m\n\u001b[1;32m      3\u001b[0m     \u001b[1;31m# When feasible, we can print out the following values\u001b[0m\u001b[1;33m\u001b[0m\u001b[1;33m\u001b[0m\u001b[0m\n\u001b[1;32m      4\u001b[0m     \u001b[1;32mprint\u001b[0m \u001b[0mx\u001b[0m\u001b[1;33m.\u001b[0m\u001b[0mvalue\u001b[0m \u001b[1;31m# solution\u001b[0m\u001b[1;33m\u001b[0m\u001b[0m\n\u001b[1;32m      5\u001b[0m     \u001b[0mlam1\u001b[0m \u001b[1;33m=\u001b[0m \u001b[0mconstraints\u001b[0m\u001b[1;33m[\u001b[0m\u001b[1;36m0\u001b[0m\u001b[1;33m]\u001b[0m\u001b[1;33m.\u001b[0m\u001b[0mdual_value\u001b[0m\u001b[1;33m\u001b[0m\u001b[0m\n",
      "\u001b[0;31mNameError\u001b[0m: name 'p' is not defined"
     ]
    }
   ],
   "source": [
    "if p.status is OPTIMAL:\n",
    "    # Note that since our data is random, we may need to run this program multiple times to get a feasible primal\n",
    "    # When feasible, we can print out the following values\n",
    "    print x.value # solution\n",
    "    lam1 = constraints[0].dual_value\n",
    "    lam2 = constraints[1].dual_value\n",
    "    lam3 = constraints[2].dual_value\n",
    "\n",
    "\n",
    "    P_lam = P0 + lam1*P1 + lam2*P2 + lam3*P3\n",
    "    q_lam = q0 + lam1*q1 + lam2*q2 + lam3*q3\n",
    "    r_lam = r0 + lam1*r1 + lam2*r2 + lam3*r3\n",
    "    dual_result = -0.5*q_lam.T*P_lam*q_lam + r_lam\n",
    "    # ISSUE: dual result is matrix for some reason\n",
    "\n",
    "    print 'Our duality gap is:'\n",
    "    print (primal_result - dual_result)"
   ]
  },
  {
   "cell_type": "code",
   "execution_count": null,
   "metadata": {
    "collapsed": true
   },
   "outputs": [],
   "source": []
  }
 ],
 "metadata": {
  "kernelspec": {
   "display_name": "Python 2",
   "language": "python",
   "name": "python2"
  },
  "language_info": {
   "codemirror_mode": {
    "name": "ipython",
    "version": 2
   },
   "file_extension": ".py",
   "mimetype": "text/x-python",
   "name": "python",
   "nbconvert_exporter": "python",
   "pygments_lexer": "ipython2",
   "version": "2.7.13"
  }
 },
 "nbformat": 4,
 "nbformat_minor": 2
}
