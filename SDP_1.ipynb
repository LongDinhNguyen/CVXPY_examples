{
 "cells": [
  {
   "cell_type": "code",
   "execution_count": 21,
   "metadata": {
    "collapsed": false
   },
   "outputs": [],
   "source": [
    "# This script finds a PSD matrix that is closest to a given symmetric,\n",
    "# real matrix, as measured by the Frobenius norm. That is, for\n",
    "# a given matrix P, it solves:\n",
    "#   minimize   || Z - P ||_F\n",
    "#   subject to Z >= 0\n",
    "# Adapted from an example provided in the SeDuMi documentation and CVX examples.\n",
    "# Unlike those examples, the data is real (not complex) and the result is only\n",
    "# required to be PSD (instead of also Toeplitz)\n",
    "\n",
    "\n",
    "# We cannot use CVXOPT matrices as constants. You can only use numpy ndarrays/matrices.\n",
    "# We need to cast one matrix to np.array, and my problem is now solved."
   ]
  },
  {
   "cell_type": "code",
   "execution_count": 1,
   "metadata": {
    "collapsed": false
   },
   "outputs": [
    {
     "name": "stdout",
     "output_type": "stream",
     "text": [
      "optimal value = 7.2699793253\n"
     ]
    }
   ],
   "source": [
    "from cvxpy import *\n",
    "import cvxpy as cp\n",
    "import numpy as np\n",
    "import cvxopt\n",
    "\n",
    "# create data P\n",
    "P = cp.Parameter(3,3)\n",
    "Z = cp.semidefinite(3)\n",
    "\n",
    "objective = cp.Minimize( cp.lambda_max(P) - cp.lambda_min(P - Z) )\n",
    "prob = cp.Problem(objective, [Z >= 0])\n",
    "P.value = np.matrix('4 1 3; 1 3.5 0.8; 3 0.8 1')\n",
    "prob.solve()\n",
    "print \"optimal value =\", prob.value"
   ]
  },
  {
   "cell_type": "code",
   "execution_count": 2,
   "metadata": {
    "collapsed": false,
    "scrolled": true
   },
   "outputs": [
    {
     "name": "stdout",
     "output_type": "stream",
     "text": [
      "     pcost       dcost       gap    pres   dres   k/t\n",
      " 0: -2.8333e+00 -1.1333e+01  6e+01  2e+00  5e+00  1e+00\n",
      " 1:  1.0070e-01 -6.0984e-01  4e+00  2e-01  6e-01  5e-01\n",
      " 2:  8.4421e-01  8.2111e-01  1e-01  7e-03  2e-02  1e-02\n",
      " 3:  8.6063e-01  8.5913e-01  8e-03  5e-04  1e-03  1e-03\n",
      " 4:  8.5977e-01  8.5936e-01  2e-03  1e-04  3e-04  2e-04\n",
      " 5:  8.5990e-01  8.5988e-01  1e-04  6e-06  2e-05  9e-06\n",
      " 6:  8.5992e-01  8.5992e-01  3e-06  2e-07  5e-07  3e-07\n",
      " 7:  8.5992e-01  8.5992e-01  8e-08  5e-09  1e-08  7e-09\n",
      "Optimal solution found.\n",
      "optimal value = 7.2699793253\n"
     ]
    }
   ],
   "source": [
    "from cvxpy import *\n",
    "import cvxpy as cp\n",
    "import numpy as np\n",
    "import cvxopt\n",
    "\n",
    "# create data P\n",
    "P = np.matrix('4, 1, 3; 1, 3.5, 0.8; 3, 0.8, 1')\n",
    "# print P\n",
    "\n",
    "Z = Semidef(3)\n",
    "objective = Minimize( cp.lambda_max(P) - cp.lambda_min(P - Z) )\n",
    "prob = Problem(objective, [Z >= 0])\n",
    "prob.solve(solver=CVXOPT, verbose=True)\n",
    "print \"optimal value =\", prob.value"
   ]
  },
  {
   "cell_type": "code",
   "execution_count": null,
   "metadata": {
    "collapsed": true
   },
   "outputs": [],
   "source": []
  }
 ],
 "metadata": {
  "kernelspec": {
   "display_name": "Python 2",
   "language": "python",
   "name": "python2"
  },
  "language_info": {
   "codemirror_mode": {
    "name": "ipython",
    "version": 2
   },
   "file_extension": ".py",
   "mimetype": "text/x-python",
   "name": "python",
   "nbconvert_exporter": "python",
   "pygments_lexer": "ipython2",
   "version": "2.7.13"
  }
 },
 "nbformat": 4,
 "nbformat_minor": 2
}
