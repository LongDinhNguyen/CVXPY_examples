{
 "cells": [
  {
   "cell_type": "code",
   "execution_count": 1,
   "metadata": {
    "collapsed": true
   },
   "outputs": [],
   "source": [
    "# Taken from CVX website http://cvxr.com/cvx/examples/\n",
    "# Examples 5.6,5.8: An l_p norm approximation problem\n",
    "# Ported from cvx matlab to cvxpy by Misrab Faizullah-Khan\n",
    "# Original comments below\n",
    "\n",
    "# Boyd & Vandenberghe \"Convex Optimization\"\n",
    "# Joelle Skaf - 08/23/05\n",
    "#\n",
    "# The goal is to show the following problem formulations give all the same\n",
    "# optimal residual norm ||Ax - b||:\n",
    "# 1)        minimize    ||Ax - b||\n",
    "# 2)        minimize    ||y||\n",
    "#               s.t.    Ax - b = y\n",
    "# 3)        maximize    b'v\n",
    "#               s.t.    ||v||* <= 1  , A'v = 0\n",
    "# 4)        minimize    1/2 ||y||^2\n",
    "#               s.t.    Ax - b = y\n",
    "# 5)        maximize    -1/2||v||*^2 + b'v\n",
    "#               s.t.    A'v = 0\n",
    "# where ||.||* denotes the dual norm of ||.||"
   ]
  },
  {
   "cell_type": "code",
   "execution_count": 10,
   "metadata": {
    "collapsed": false
   },
   "outputs": [
    {
     "name": "stdout",
     "output_type": "stream",
     "text": [
      "Computing the optimal solution of org problem...\n",
      "('Status:', 'optimal')\n",
      "('Opt value:', 2.3831305396820452)\n",
      "Computing the optimal solution of problem 1...\n",
      "('Status:', 'optimal')\n",
      "('Opt value:', 2.3831305398661007)\n",
      "Computing the optimal solution of problem 2...\n",
      "('Status:', 'optimal')\n",
      "('Opt value:', 2.8396554129749796)\n"
     ]
    }
   ],
   "source": [
    "from cvxpy import *\n",
    "import cvxpy as cp\n",
    "import numpy as np\n",
    "from pylab import *\n",
    "import math\n",
    "\n",
    "\n",
    "# Input data\n",
    "n = 4\n",
    "m = 2*n\n",
    "A = np.random.randn(m,n)\n",
    "b = np.random.randn(m,1)\n",
    "p = 2\n",
    "q = p/(p-1)\n",
    "\n",
    "# ########################################\n",
    "# Original problem\n",
    "x = Variable(n)\n",
    "obj_org = Minimize(pnorm(A*x - b,2))\n",
    "prob_org = Problem(obj_org, [])\n",
    "\n",
    "prob_org.solve(solver=ECOS, verbose=False)\n",
    "\n",
    "print (\"Computing the optimal solution of org problem...\")\n",
    "print (\"Status:\", prob_org.status)\n",
    "print (\"Opt value:\", prob_org.value)\n",
    "\n",
    "# ############################################\n",
    "# Reformulation 1\n",
    "x = Variable(n)\n",
    "y = Variable(m)\n",
    "\n",
    "obj1 = Minimize(pnorm(y, p))\n",
    "prob1 = Problem(obj1, [A*x - b == y])\n",
    "\n",
    "prob1.solve(solver=ECOS, verbose=False)\n",
    "\n",
    "# print(\"#####################################\")\n",
    "print (\"Computing the optimal solution of problem 1...\")\n",
    "print (\"Status:\", prob1.status)\n",
    "print (\"Opt value:\", prob1.value)\n",
    "\n",
    "# ##############################################\n",
    "# Reformulation 2\n",
    "x = Variable(n)\n",
    "y = Variable(m)\n",
    "\n",
    "obj2 = Minimize(0.5*(pnorm(y, p)**2))  # power(x,p) = x^p\n",
    "prob2 = Problem(obj2, [A*x - b == y] )\n",
    "\n",
    "prob2.solve(solver=ECOS, verbose=False)\n",
    "\n",
    "# println(\"#####################################\")\n",
    "print (\"Computing the optimal solution of problem 2...\")\n",
    "print (\"Status:\", prob2.status)\n",
    "print (\"Opt value:\", prob2.value)"
   ]
  },
  {
   "cell_type": "code",
   "execution_count": null,
   "metadata": {
    "collapsed": true
   },
   "outputs": [],
   "source": []
  }
 ],
 "metadata": {
  "kernelspec": {
   "display_name": "Python 2",
   "language": "python",
   "name": "python2"
  },
  "language_info": {
   "codemirror_mode": {
    "name": "ipython",
    "version": 2
   },
   "file_extension": ".py",
   "mimetype": "text/x-python",
   "name": "python",
   "nbconvert_exporter": "python",
   "pygments_lexer": "ipython2",
   "version": "2.7.13"
  }
 },
 "nbformat": 4,
 "nbformat_minor": 2
}
